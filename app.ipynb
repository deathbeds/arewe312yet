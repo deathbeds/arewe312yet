{
 "cells": [
  {
   "cell_type": "markdown",
   "id": "ce6ccc85-3e40-4cbf-a3a9-a20d730da587",
   "metadata": {},
   "source": [
    "# Are we 3.12 yet?\n",
    "\n",
    "Exploring the `conda-forge` [`python312` migration](https://conda-forge.org/status/#python312)."
   ]
  },
  {
   "cell_type": "code",
   "execution_count": null,
   "id": "c9d19a24-7475-4bdb-b1b6-203f214d88ab",
   "metadata": {
    "tags": []
   },
   "outputs": [],
   "source": [
    "import sys\n",
    "if \"pyodide\" in sys.modules and __name__ == \"__main__\":\n",
    "    %pip install -r requirements.txt"
   ]
  },
  {
   "cell_type": "code",
   "execution_count": null,
   "id": "7f821945-fd5f-45c2-ad4c-2d4181158fad",
   "metadata": {
    "tags": []
   },
   "outputs": [],
   "source": [
    "if \"pyodide\" in sys.modules:\n",
    "    __import__(\"pyodide_http\").patch_all()"
   ]
  },
  {
   "cell_type": "code",
   "execution_count": null,
   "id": "6d2f82a2-9dfd-44e9-8de9-bbfdd50caee9",
   "metadata": {
    "tags": []
   },
   "outputs": [],
   "source": [
    "import pandas as pd\n",
    "from ipyforcegraph import graphs as G, behaviors as B\n",
    "from ipyforcegraph.behaviors import scales as S \n",
    "import ipylab\n",
    "import requests"
   ]
  },
  {
   "cell_type": "code",
   "execution_count": null,
   "id": "e475b299-0761-4ac5-945b-793f253d1ddd",
   "metadata": {
    "tags": []
   },
   "outputs": [],
   "source": [
    "URL = \"https://raw.githubusercontent.com/regro/cf-graph-countyfair/master/status/migration_json/python312.json\"\n",
    "data = requests.get(URL).json()\n",
    "data.keys()\n",
    "df = pd.DataFrame([{\"id\": name, **d}for name, d in data.pop(\"_feedstock_status\").items()]).fillna(\"\")\n",
    "df.sample(10).T"
   ]
  },
  {
   "cell_type": "code",
   "execution_count": null,
   "id": "519cb260-77c8-4e6a-bc16-bf9381c0684e",
   "metadata": {
    "tags": []
   },
   "outputs": [],
   "source": [
    "links = []\n",
    "df.apply(lambda d: links.extend({\"source\": d.id, \"target\": t} for t in d.immediate_children), axis=1)\n",
    "links = pd.DataFrame(links)\n",
    "links.T"
   ]
  },
  {
   "cell_type": "code",
   "execution_count": null,
   "id": "5b3e95d6-f10a-4be4-98f9-8093bb87f223",
   "metadata": {
    "tags": []
   },
   "outputs": [],
   "source": [
    "dk = [*data.keys()]\n",
    "nodes = pd.concat([df, pd.DataFrame(set(links[\"target\"]) - set(df[\"id\"]), columns=[\"id\"])]).fillna(\"\")\n",
    "nodes[\"status\"] = df.apply(lambda d: [k for k in data if d.id in data[k]][-1], axis=1)\n",
    "nodes[\"status_color\"] = df.apply(lambda d: [dk.index(k) for k in data if d.id in data[k]][-1], axis=1)"
   ]
  },
  {
   "cell_type": "code",
   "execution_count": null,
   "id": "ab49f944-da79-4da5-b18c-923ae69ca314",
   "metadata": {
    "tags": []
   },
   "outputs": [],
   "source": [
    "nodes.T"
   ]
  },
  {
   "cell_type": "code",
   "execution_count": null,
   "id": "711ab39c-00bf-411a-b6ac-1892e9d287c8",
   "metadata": {
    "tags": []
   },
   "outputs": [],
   "source": [
    "fg = G.ForceGraph3D(\n",
    "    source=G.DataFrameSource(nodes=nodes, links=links), \n",
    "    layout=dict(min_height=\"80vh\")\n",
    ")"
   ]
  },
  {
   "cell_type": "code",
   "execution_count": null,
   "id": "1c436ee6-da45-4380-9244-a6f2de8b7586",
   "metadata": {
    "tags": []
   },
   "outputs": [],
   "source": [
    "if __name__ == \"__main__\":\n",
    "    app = ipylab.JupyterFrontEnd()\n",
    "    panel = ipylab.Panel([fg])\n",
    "    app.shell.add(panel, \"main\", {\"mode\": \"split-right\"})"
   ]
  },
  {
   "cell_type": "markdown",
   "id": "cefff30a-3f18-4b6d-b728-1f093c063348",
   "metadata": {},
   "source": [
    "pretty"
   ]
  },
  {
   "cell_type": "code",
   "execution_count": null,
   "id": "35e6112f-981e-43f9-9ef5-0a340166e1c4",
   "metadata": {
    "tags": []
   },
   "outputs": [],
   "source": [
    "c = S.ContinuousColor(\n",
    "    \"status_color\", scheme=S.ContinuousColor.Scheme.viridis, domain=[-2, 5]\n",
    ")\n",
    "s = 4 # B.Nunjucks(\"\"\"{{ node.status_color * 100 }}\"\"\")\n",
    "ns = B.NodeShapes(color=B.CaptureAs(\"_color\", c), size=s)\n",
    "tip = B.NodeTooltip(B.Nunjucks(\"\"\"\n",
    "<h1>{{ node.id }}</h1> ({{ node.status }})\n",
    "{{ node.immediate_children }}\n",
    "\"\"\"), color=\"black\")\n",
    "fg.behaviors=[ns, tip]"
   ]
  }
 ],
 "metadata": {
  "kernelspec": {
   "display_name": "Python 3 (ipykernel)",
   "language": "python",
   "name": "python3"
  },
  "language_info": {
   "codemirror_mode": {
    "name": "ipython",
    "version": 3
   },
   "file_extension": ".py",
   "mimetype": "text/x-python",
   "name": "python",
   "nbconvert_exporter": "python",
   "pygments_lexer": "ipython3",
   "version": "3.11.5"
  }
 },
 "nbformat": 4,
 "nbformat_minor": 5
}
