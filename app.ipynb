{
 "cells": [
  {
   "cell_type": "markdown",
   "id": "ce6ccc85-3e40-4cbf-a3a9-a20d730da587",
   "metadata": {},
   "source": [
    "# Are we 3.12 yet?\n",
    "\n",
    "Exploring the `conda-forge` [`python312` migration](https://conda-forge.org/status/#python312)."
   ]
  },
  {
   "cell_type": "code",
   "execution_count": null,
   "id": "c9d19a24-7475-4bdb-b1b6-203f214d88ab",
   "metadata": {
    "tags": []
   },
   "outputs": [],
   "source": [
    "import sys\n",
    "if \"pyodide\" in sys.modules and __name__ == \"__main__\":\n",
    "    print(\"installing dependencies...\")\n",
    "    %pip install -r requirements.txt"
   ]
  },
  {
   "cell_type": "code",
   "execution_count": null,
   "id": "7f821945-fd5f-45c2-ad4c-2d4181158fad",
   "metadata": {
    "tags": []
   },
   "outputs": [],
   "source": [
    "if \"pyodide\" in sys.modules:\n",
    "    print(\"patching http...\")\n",
    "    __import__(\"pyodide_http\").patch_all()"
   ]
  },
  {
   "cell_type": "code",
   "execution_count": null,
   "id": "6d2f82a2-9dfd-44e9-8de9-bbfdd50caee9",
   "metadata": {
    "tags": []
   },
   "outputs": [],
   "source": [
    "print(\"importing dependencies...\")\n",
    "import pandas as pd\n",
    "from ipyforcegraph import graphs as G, behaviors as B\n",
    "from ipyforcegraph.behaviors import scales as S \n",
    "import ipylab\n",
    "import requests"
   ]
  },
  {
   "cell_type": "code",
   "execution_count": null,
   "id": "e475b299-0761-4ac5-945b-793f253d1ddd",
   "metadata": {
    "tags": []
   },
   "outputs": [],
   "source": [
    "print(\"fetching data...\")\n",
    "URL = \"https://raw.githubusercontent.com/regro/cf-graph-countyfair/master/status/migration_json/python312.json\"\n",
    "data = requests.get(URL).json()\n",
    "data.keys()\n",
    "df = pd.DataFrame([{\"id\": name, **d}for name, d in data.pop(\"_feedstock_status\").items()]).fillna(\"\")\n",
    "df.sample(10).T"
   ]
  },
  {
   "cell_type": "code",
   "execution_count": null,
   "id": "519cb260-77c8-4e6a-bc16-bf9381c0684e",
   "metadata": {
    "tags": []
   },
   "outputs": [],
   "source": [
    "print(\"building links...\")\n",
    "links = []\n",
    "df.apply(lambda d: links.extend({\"source\": d.id, \"target\": t} for t in d.immediate_children), axis=1)\n",
    "links = pd.DataFrame(links)\n",
    "print(\"...link shape\", links.shape)\n",
    "links.T"
   ]
  },
  {
   "cell_type": "code",
   "execution_count": null,
   "id": "ae6f9ca0-eff2-478b-ac5d-83d19cba158b",
   "metadata": {
    "tags": []
   },
   "outputs": [],
   "source": [
    "dk = [\n",
    "    'bot-error',\n",
    "    'not-solvable',\n",
    "    'awaiting-parents',\n",
    "    'unstable',\n",
    "    'unknown',\n",
    "    'awaiting-pr',\n",
    "    'in-pr',\n",
    "    'clean',\n",
    "    'done',\n",
    "]"
   ]
  },
  {
   "cell_type": "code",
   "execution_count": null,
   "id": "5b3e95d6-f10a-4be4-98f9-8093bb87f223",
   "metadata": {
    "tags": []
   },
   "outputs": [],
   "source": [
    "print(\"building nodes...\")\n",
    "nodes = pd.concat([df, pd.DataFrame(set(links[\"target\"]) - set(df[\"id\"]), columns=[\"id\"])]).fillna(\"\")\n",
    "nodes[\"status\"] = df.apply(lambda d: [k for k in data if d.id in data[k]][-1], axis=1)\n",
    "nodes[\"status_color\"] = df.apply(lambda d: [dk.index(k) for k in data if d.id in data[k]][-1], axis=1)\n",
    "print('... node shape', nodes.shape)"
   ]
  },
  {
   "cell_type": "code",
   "execution_count": null,
   "id": "aa3c3531-225e-454b-a04e-aa03361a3441",
   "metadata": {},
   "outputs": [],
   "source": [
    "print(\"extracting pr nodes...\")\n",
    "pr_nodes = nodes[nodes[\"pr_status\"] != ''][[\"pr_url\", \"id\", \"pr_status\"]]\n",
    "pr_nodes = pr_nodes.rename({'id': 'target', 'pr_url': 'id'}, axis=1)\n",
    "pr_nodes[\"status\"] = pr_nodes[\"pr_status\"]\n",
    "pr_nodes[\"status_color\"] = pr_nodes.apply(lambda d: dk.index(d.pr_status), axis=1)\n",
    "print(\"... pr nodes shape\", pr_nodes.shape)\n",
    "pr_nodes"
   ]
  },
  {
   "cell_type": "code",
   "execution_count": null,
   "id": "07d8f0a4-789d-4914-875d-00ef36f11dfc",
   "metadata": {},
   "outputs": [],
   "source": [
    "print(\"extracting PR links...\")\n",
    "pr_links = pr_nodes.rename({\"id\": \"source\"}, axis=1)\n",
    "pr_links\n",
    "print(\"...PR links shape\", pr_links.shape)"
   ]
  },
  {
   "cell_type": "code",
   "execution_count": null,
   "id": "afcbd23f-bc87-409f-b8cd-b2ed4b7b74e0",
   "metadata": {},
   "outputs": [],
   "source": [
    "print('merging all nodes and links...')\n",
    "all_nodes = pd.concat([nodes, pr_nodes[[\"id\", \"status\", \"status_color\"]]]).fillna(\"\")\n",
    "all_links = pd.concat([links, pr_links[[\"source\", \"target\", \"status\", \"status_color\"]]]).fillna(\"\")\n",
    "print('... nodes and links', all_nodes.shape, all_links.shape)"
   ]
  },
  {
   "cell_type": "code",
   "execution_count": null,
   "id": "711ab39c-00bf-411a-b6ac-1892e9d287c8",
   "metadata": {
    "tags": []
   },
   "outputs": [],
   "source": [
    "print(\"initializing graph...\")\n",
    "fg = G.ForceGraph3D(\n",
    "    source=G.DataFrameSource(nodes=all_nodes, links=all_links), \n",
    "    layout=dict(min_height=\"80vh\")\n",
    ")"
   ]
  },
  {
   "cell_type": "code",
   "execution_count": null,
   "id": "1c436ee6-da45-4380-9244-a6f2de8b7586",
   "metadata": {
    "tags": []
   },
   "outputs": [],
   "source": [
    "if __name__ == \"__main__\":\n",
    "    app = ipylab.JupyterFrontEnd()\n",
    "    panel = ipylab.Panel([fg])\n",
    "    app.shell.add(panel, \"main\", {\"mode\": \"split-right\"})"
   ]
  },
  {
   "cell_type": "markdown",
   "id": "cefff30a-3f18-4b6d-b728-1f093c063348",
   "metadata": {},
   "source": [
    "pretty"
   ]
  },
  {
   "cell_type": "code",
   "execution_count": null,
   "id": "f62a9bac-9f7e-4349-9041-089d78b11108",
   "metadata": {
    "tags": []
   },
   "outputs": [],
   "source": [
    "print(\"adding pretties...\")\n",
    "c = S.ContinuousColor(\n",
    "    \"status_color\", scheme=S.ContinuousColor.Scheme.viridis, domain=[-2, 9]\n",
    ")\n",
    "s = 4\n",
    "ns = B.NodeShapes(color=B.CaptureAs(\"_color\", c), size=s)\n",
    "tip = B.NodeTooltip(B.Nunjucks(\"\"\"\n",
    "<h1>{{ node.id }}</h1> ({{ node.status }})\n",
    "{{ node.immediate_children }}\n",
    "\"\"\"), color=\"black\")\n",
    "\n",
    "ls = B.LinkShapes(\n",
    "    color=B.ReplaceCssVariables(\n",
    "        B.Nunjucks(\"\"\"\n",
    "        var({% if link.status %}\n",
    "            {{ {\n",
    "                \"unstable\": \"--jp-error-color0\", \n",
    "                \"unknown\": \"--jp-warn-color0\", \n",
    "                \"clean\": \"--jp-brand-color0\"\n",
    "                }[link.status] }}\n",
    "            {%- else -%}\n",
    "            --jp-layout-color4\n",
    "            {%- endif -%}\n",
    "        )\n",
    "        \"\"\")\n",
    "    ),\n",
    "    width=B.Nunjucks(\"\"\"\n",
    "        {% if link.status_color %}15{% else %}1{% endif %}\n",
    "    \"\"\"),\n",
    "    opacity=0.1\n",
    ")\n",
    "fg.behaviors=[ns, tip, ls]"
   ]
  },
  {
   "cell_type": "code",
   "execution_count": null,
   "id": "78f43a1d-f2d0-422e-8c9b-3093e0c57805",
   "metadata": {},
   "outputs": [],
   "source": []
  }
 ],
 "metadata": {
  "kernelspec": {
   "display_name": "Python 3 (ipykernel)",
   "language": "python",
   "name": "python3"
  },
  "language_info": {
   "codemirror_mode": {
    "name": "ipython",
    "version": 3
   },
   "file_extension": ".py",
   "mimetype": "text/x-python",
   "name": "python",
   "nbconvert_exporter": "python",
   "pygments_lexer": "ipython3",
   "version": "3.11.5"
  }
 },
 "nbformat": 4,
 "nbformat_minor": 5
}
