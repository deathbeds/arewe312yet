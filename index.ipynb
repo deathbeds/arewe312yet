{
 "cells": [
  {
   "cell_type": "markdown",
   "id": "2eb6a050-7b55-45f6-81c2-2d33f284a89a",
   "metadata": {
    "@deathbeds/jupyterlab-fonts": {
     "styles": {
      "": {
       "body[data-jp-deck-mode='presenting'] &": {
        "height": "35.60767854149661%",
        "left": "0.3279624720414476%",
        "position": "fixed",
        "top": "0.5330490885512916%",
        "width": "24.926758726437885%",
        "zoom": "209%"
       }
      }
     }
    },
    "tags": []
   },
   "source": [
    "# Are We 3.12 yet?"
   ]
  },
  {
   "cell_type": "code",
   "execution_count": 1,
   "id": "eb7e52aa-a65d-4117-bb53-70543b6e616a",
   "metadata": {
    "@deathbeds/jupyterlab-fonts": {
     "styles": {
      "": {
       "body[data-jp-deck-mode='presenting'] &": {
        "height": "29.42430703624733%",
        "left": "1.8318684895833333%",
        "position": "fixed",
        "top": "61.99360341151387%",
        "width": "21.086832682291668%"
       }
      }
     }
    },
    "tags": []
   },
   "outputs": [],
   "source": [
    "import sys\n",
    "if \"pyodide\" in sys.modules and __name__ == \"__main__\":\n",
    "    %pip install -r requirements.txt"
   ]
  },
  {
   "cell_type": "code",
   "execution_count": 3,
   "id": "47251fe9-6cff-4499-bf32-00ed944cc91e",
   "metadata": {
    "@deathbeds/jupyterlab-fonts": {
     "styles": {
      "": {
       "body[data-jp-deck-mode='presenting'] &": {
        "height": "98.97637926439232%",
        "left": "24.98046875%",
        "position": "fixed",
        "top": "0.5113939232409381%",
        "width": "74.248046875%"
       }
      }
     }
    },
    "tags": []
   },
   "outputs": [
    {
     "data": {
      "application/vnd.jupyter.widget-view+json": {
       "model_id": "",
       "version_major": 2,
       "version_minor": 0
      },
      "text/plain": [
       "ForceGraph3D(behaviors=(NodeShapes(color=CaptureAs(a5ba4d54b308ddaa693d780d091, wrapped=103357145b2a413ba087ef…"
      ]
     },
     "execution_count": 3,
     "metadata": {},
     "output_type": "execute_result"
    }
   ],
   "source": [
    "with __import__(\"importnb\").Notebook(): import app\n",
    "app.fg"
   ]
  },
  {
   "cell_type": "code",
   "execution_count": null,
   "id": "c53f7096-aae8-444f-a29f-c0872c1e17c2",
   "metadata": {},
   "outputs": [],
   "source": []
  }
 ],
 "metadata": {
  "kernelspec": {
   "display_name": "Python 3 (ipykernel)",
   "language": "python",
   "name": "python3"
  },
  "language_info": {
   "codemirror_mode": {
    "name": "ipython",
    "version": 3
   },
   "file_extension": ".py",
   "mimetype": "text/x-python",
   "name": "python",
   "nbconvert_exporter": "python",
   "pygments_lexer": "ipython3",
   "version": "3.11.5"
  }
 },
 "nbformat": 4,
 "nbformat_minor": 5
}
